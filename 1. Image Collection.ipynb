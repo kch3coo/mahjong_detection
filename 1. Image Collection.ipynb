{
 "cells": [
  {
   "cell_type": "markdown",
   "metadata": {},
   "source": [
    "# 1. Import Dependencies"
   ]
  },
  {
   "cell_type": "code",
   "execution_count": 1,
   "metadata": {
    "scrolled": true
   },
   "outputs": [
    {
     "name": "stdout",
     "output_type": "stream",
     "text": [
      "Requirement already satisfied: opencv-python in c:\\users\\mingj\\appdata\\local\\programs\\python\\python310\\lib\\site-packages (4.6.0.66)\n",
      "Requirement already satisfied: numpy>=1.21.2 in c:\\users\\mingj\\appdata\\local\\programs\\python\\python310\\lib\\site-packages (from opencv-python) (1.23.0)\n"
     ]
    },
    {
     "name": "stderr",
     "output_type": "stream",
     "text": [
      "WARNING: You are using pip version 22.0.4; however, version 22.1.2 is available.\n",
      "You should consider upgrading via the 'C:\\Users\\mingj\\AppData\\Local\\Programs\\Python\\Python310\\python.exe -m pip install --upgrade pip' command.\n"
     ]
    }
   ],
   "source": [
    "!pip install opencv-python"
   ]
  },
  {
   "cell_type": "code",
   "execution_count": 2,
   "metadata": {},
   "outputs": [],
   "source": [
    "# Import opencv\n",
    "import cv2 \n",
    "\n",
    "# Import uuid\n",
    "import uuid\n",
    "\n",
    "# Import Operating System\n",
    "import os\n",
    "\n",
    "# Import time\n",
    "import time"
   ]
  },
  {
   "cell_type": "markdown",
   "metadata": {},
   "source": [
    "# 2. Define Images to Collect"
   ]
  },
  {
   "cell_type": "code",
   "execution_count": 8,
   "metadata": {},
   "outputs": [],
   "source": [
    "labels = ['duckfront', 'duckside', 'duckbud']\n",
    "number_imgs = 5"
   ]
  },
  {
   "cell_type": "markdown",
   "metadata": {},
   "source": [
    "# 3. Setup Folders "
   ]
  },
  {
   "cell_type": "code",
   "execution_count": 14,
   "metadata": {},
   "outputs": [],
   "source": [
    "IMAGES_PATH = os.path.join(os.getcwd(),'Tensorflow', 'workspace', 'images', 'collectedimages')"
   ]
  },
  {
   "cell_type": "code",
   "execution_count": 15,
   "metadata": {},
   "outputs": [
    {
     "data": {
      "text/plain": [
       "'nt'"
      ]
     },
     "execution_count": 15,
     "metadata": {},
     "output_type": "execute_result"
    }
   ],
   "source": [
    "os.name\n"
   ]
  },
  {
   "cell_type": "code",
   "execution_count": 16,
   "metadata": {},
   "outputs": [],
   "source": [
    "if not os.path.exists(IMAGES_PATH):\n",
    "    if os.name == 'posix':\n",
    "        !mkdir -p {IMAGES_PATH}\n",
    "    if os.name == 'nt':\n",
    "         !mkdir {IMAGES_PATH}\n",
    "for label in labels:\n",
    "    path = os.path.join(IMAGES_PATH, label)\n",
    "    if not os.path.exists(path):\n",
    "        !mkdir {path}"
   ]
  },
  {
   "cell_type": "markdown",
   "metadata": {},
   "source": [
    "# 4. Capture Images"
   ]
  },
  {
   "cell_type": "code",
   "execution_count": 18,
   "metadata": {},
   "outputs": [
    {
     "name": "stdout",
     "output_type": "stream",
     "text": [
      "Collecting images for thumbsup\n",
      "Collecting image 0\n",
      "Collecting image 1\n",
      "Collecting image 2\n",
      "Collecting image 3\n",
      "Collecting image 4\n"
     ]
    }
   ],
   "source": [
    "for label in labels:\n",
    "    cap = cv2.VideoCapture(0)\n",
    "    print('Collecting images for {}'.format(label))\n",
    "    time.sleep(5)\n",
    "    for imgnum in range(number_imgs):\n",
    "        print('Collecting image {}'.format(imgnum))\n",
    "        ret, frame = cap.read()\n",
    "        imgname = os.path.join(IMAGES_PATH,label,label+'.'+'{}.jpg'.format(str(uuid.uuid1())))\n",
    "        cv2.imwrite(imgname, frame)\n",
    "        cv2.imshow('frame', frame)\n",
    "        time.sleep(2)\n",
    "\n",
    "        if cv2.waitKey(1) & 0xFF == ord('q'):\n",
    "            break\n",
    "cap.release()\n",
    "cv2.destroyAllWindows()"
   ]
  },
  {
   "cell_type": "markdown",
   "metadata": {},
   "source": [
    "# 5. Image Labelling"
   ]
  },
  {
   "cell_type": "code",
   "execution_count": 1,
   "metadata": {},
   "outputs": [
    {
     "name": "stdout",
     "output_type": "stream",
     "text": [
      "Collecting pyqt5\n",
      "  Using cached PyQt5-5.15.6-cp36-abi3-win_amd64.whl (6.7 MB)\n",
      "Collecting lxml\n",
      "  Downloading lxml-4.9.0-cp38-cp38-win_amd64.whl (3.6 MB)\n",
      "     ---------------------------------------- 3.6/3.6 MB 46.3 MB/s eta 0:00:00\n",
      "Collecting PyQt5-sip<13,>=12.8\n",
      "  Using cached PyQt5_sip-12.10.1-cp38-cp38-win_amd64.whl (77 kB)\n",
      "Collecting PyQt5-Qt5>=5.15.2\n",
      "  Using cached PyQt5_Qt5-5.15.2-py3-none-win_amd64.whl (50.1 MB)\n",
      "Installing collected packages: PyQt5-Qt5, PyQt5-sip, lxml, pyqt5\n",
      "Successfully installed PyQt5-Qt5-5.15.2 PyQt5-sip-12.10.1 lxml-4.9.0 pyqt5-5.15.6\n"
     ]
    }
   ],
   "source": [
    "!pip install --upgrade pyqt5 lxml"
   ]
  },
  {
   "cell_type": "code",
   "execution_count": 1,
   "metadata": {},
   "outputs": [],
   "source": [
    "LABELIMG_PATH = os.path.join(os.getcwd(),'Tensorflow', 'labelimg')"
   ]
  },
  {
   "cell_type": "code",
   "execution_count": 2,
   "metadata": {},
   "outputs": [
    {
     "data": {
      "text/plain": [
       "True"
      ]
     },
     "execution_count": 2,
     "metadata": {},
     "output_type": "execute_result"
    }
   ],
   "source": [
    "os.path.exists(LABELIMG_PATH)"
   ]
  },
  {
   "cell_type": "code",
   "execution_count": 9,
   "metadata": {},
   "outputs": [
    {
     "name": "stderr",
     "output_type": "stream",
     "text": [
      "Cloning into 'C:\\DevSpot\\ocr-detection\\TFODCourse\\..\\Tensorflow\\labelimg'...\n"
     ]
    }
   ],
   "source": [
    "if not os.path.exists(LABELIMG_PATH):\n",
    "    !mkdir {LABELIMG_PATH}\n",
    "    !git clone https://github.com/tzutalin/labelImg {LABELIMG_PATH}"
   ]
  },
  {
   "cell_type": "code",
   "execution_count": 7,
   "metadata": {},
   "outputs": [],
   "source": [
    "if os.name == 'posix':\n",
    "    !make qt5py3\n",
    "if os.name =='nt':\n",
    "    !cd {LABELIMG_PATH} && pyrcc5 -o libs/resources.py resources.qrc"
   ]
  },
  {
   "cell_type": "code",
   "execution_count": 4,
   "metadata": {},
   "outputs": [
    {
     "name": "stdout",
     "output_type": "stream",
     "text": [
      "Image:C:\\DevSpot\\ocr-detection\\TFODCourse\\Tensorflow\\workspace\\images\\collectedimages\\mahjong\\WeChat Image_20220718231129.jpg -> Annotation:C:/DevSpot/ocr-detection/TFODCourse/Tensorflow/workspace/images/collectedimages/mahjong/WeChat Image_20220718231129.xml\n",
      "Image:C:\\DevSpot\\ocr-detection\\TFODCourse\\Tensorflow\\workspace\\images\\collectedimages\\mahjong\\WeChat Image_20220718231129.jpg -> Annotation:C:/DevSpot/ocr-detection/TFODCourse/Tensorflow/workspace/images/collectedimages/mahjong/WeChat Image_20220718231129.xml\n",
      "Image:C:\\DevSpot\\ocr-detection\\TFODCourse\\Tensorflow\\workspace\\images\\collectedimages\\mahjong\\WeChat Image_20220718231139.jpg -> Annotation:C:/DevSpot/ocr-detection/TFODCourse/Tensorflow/workspace/images/collectedimages/mahjong/WeChat Image_20220718231139.xml\n",
      "Image:C:\\DevSpot\\ocr-detection\\TFODCourse\\Tensorflow\\workspace\\images\\collectedimages\\mahjong\\WeChat Image_20220718231144.jpg -> Annotation:C:/DevSpot/ocr-detection/TFODCourse/Tensorflow/workspace/images/collectedimages/mahjong/WeChat Image_20220718231144.xml\n",
      "Image:C:\\DevSpot\\ocr-detection\\TFODCourse\\Tensorflow\\workspace\\images\\collectedimages\\mahjong\\WeChat Image_20220718231150.jpg -> Annotation:C:/DevSpot/ocr-detection/TFODCourse/Tensorflow/workspace/images/collectedimages/mahjong/WeChat Image_20220718231150.xml\n",
      "Image:C:\\DevSpot\\ocr-detection\\TFODCourse\\Tensorflow\\workspace\\images\\collectedimages\\mahjong\\WeChat Image_20220718231144.jpg -> Annotation:C:/DevSpot/ocr-detection/TFODCourse/Tensorflow/workspace/images/collectedimages/mahjong/WeChat Image_20220718231144.xml\n",
      "Image:C:\\DevSpot\\ocr-detection\\TFODCourse\\Tensorflow\\workspace\\images\\collectedimages\\mahjong\\WeChat Image_20220718231139.jpg -> Annotation:C:/DevSpot/ocr-detection/TFODCourse/Tensorflow/workspace/images/collectedimages/mahjong/WeChat Image_20220718231139.xml\n",
      "Image:C:\\DevSpot\\ocr-detection\\TFODCourse\\Tensorflow\\workspace\\images\\collectedimages\\mahjong\\WeChat Image_20220718231129.jpg -> Annotation:C:/DevSpot/ocr-detection/TFODCourse/Tensorflow/workspace/images/collectedimages/mahjong/WeChat Image_20220718231129.xml\n",
      "Image:C:\\DevSpot\\ocr-detection\\TFODCourse\\Tensorflow\\workspace\\images\\collectedimages\\mahjong\\WeChat Image_20220718002211.jpg -> Annotation:C:/DevSpot/ocr-detection/TFODCourse/Tensorflow/workspace/images/collectedimages/mahjong/WeChat Image_20220718002211.xml\n",
      "Image:C:\\DevSpot\\ocr-detection\\TFODCourse\\Tensorflow\\workspace\\images\\collectedimages\\mahjong\\WeChat Image_20220718002200.jpg -> Annotation:C:/DevSpot/ocr-detection/TFODCourse/Tensorflow/workspace/images/collectedimages/mahjong/WeChat Image_20220718002200.xml\n",
      "Image:C:\\DevSpot\\ocr-detection\\TFODCourse\\Tensorflow\\workspace\\images\\collectedimages\\mahjong\\WeChat Image_20220718002154.jpg -> Annotation:C:/DevSpot/ocr-detection/TFODCourse/Tensorflow/workspace/images/collectedimages/mahjong/WeChat Image_20220718002154.xml\n",
      "Image:C:\\DevSpot\\ocr-detection\\TFODCourse\\Tensorflow\\workspace\\images\\collectedimages\\mahjong\\WeChat Image_20220718002142.jpg -> Annotation:C:/DevSpot/ocr-detection/TFODCourse/Tensorflow/workspace/images/collectedimages/mahjong/WeChat Image_20220718002142.xml\n"
     ]
    }
   ],
   "source": [
    "!cd {LABELIMG_PATH} && python labelImg.py"
   ]
  },
  {
   "cell_type": "markdown",
   "metadata": {},
   "source": [
    "# 6. Move them into a Training and Testing Partition"
   ]
  },
  {
   "cell_type": "code",
   "execution_count": 3,
   "metadata": {},
   "outputs": [],
   "source": [
    "TRAIN_PATH = os.path.join(os.getcwd(),'Tensorflow', 'workspace', 'images', 'train')\n",
    "TEST_PATH = os.path.join(os.getcwd(),'Tensorflow', 'workspace', 'images', 'test')\n",
    "\n",
    "if not os.path.exists(TRAIN_PATH):\n",
    "    os.mkdir(TRAIN_PATH)\n",
    "if not os.path.exists(TEST_PATH):\n",
    "    os.mkdir(TEST_PATH)"
   ]
  },
  {
   "cell_type": "markdown",
   "metadata": {},
   "source": [
    "# OPTIONAL - 7. Compress them for Colab Training"
   ]
  },
  {
   "cell_type": "code",
   "execution_count": 20,
   "metadata": {},
   "outputs": [],
   "source": [
    "TRAIN_PATH = os.path.join('Tensorflow', 'workspace', 'images', 'train')\n",
    "TEST_PATH = os.path.join('Tensorflow', 'workspace', 'images', 'test')\n",
    "ARCHIVE_PATH = os.path.join('Tensorflow', 'workspace', 'images', 'archive.tar.gz')"
   ]
  },
  {
   "cell_type": "code",
   "execution_count": 21,
   "metadata": {},
   "outputs": [],
   "source": [
    "!tar -czf {ARCHIVE_PATH} {TRAIN_PATH} {TEST_PATH}"
   ]
  },
  {
   "cell_type": "code",
   "execution_count": null,
   "metadata": {},
   "outputs": [],
   "source": []
  }
 ],
 "metadata": {
  "kernelspec": {
   "display_name": "ocr-detection",
   "language": "python",
   "name": "ocr-detection"
  },
  "language_info": {
   "codemirror_mode": {
    "name": "ipython",
    "version": 3
   },
   "file_extension": ".py",
   "mimetype": "text/x-python",
   "name": "python",
   "nbconvert_exporter": "python",
   "pygments_lexer": "ipython3",
   "version": "3.10.5"
  }
 },
 "nbformat": 4,
 "nbformat_minor": 2
}
